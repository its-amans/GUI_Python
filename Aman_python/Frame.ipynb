{
 "cells": [
  {
   "cell_type": "code",
   "execution_count": 1,
   "id": "6366f488",
   "metadata": {},
   "outputs": [],
   "source": [
    "from tkinter import *"
   ]
  },
  {
   "cell_type": "code",
   "execution_count": 10,
   "id": "80ca1aa1",
   "metadata": {},
   "outputs": [],
   "source": [
    "win=Tk()\n",
    "l1=Label(win,text=\"User_Name\")\n",
    "l1.grid(row=0,column=0,sticky=N)\n",
    "l2=Label(win,text=\"Password\")\n",
    "l2.grid(row=1,column=0,sticky=N)\n",
    "\n",
    "e1=Entry(win)\n",
    "e2=Entry(win)\n",
    "\n",
    "e1.grid(row=0,column=1,sticky=N)\n",
    "e2.grid(row=1,column=1,sticky=N)\n",
    "\n",
    "b1=Button(win,text=\"Submit\")\n",
    "b1.grid(row=3,column=0,columnspan=2)\n",
    "\n",
    "win.mainloop()"
   ]
  },
  {
   "cell_type": "code",
   "execution_count": 51,
   "id": "2ba260fe",
   "metadata": {},
   "outputs": [],
   "source": [
    "win=Tk()\n",
    "\n",
    "def clicked:\n",
    "    m.config(text=\"Registration successful\")\n",
    "    \n",
    "win.config(bg=\"yellow\",padx=650,pady=300)\n",
    "l1=Label(win,text=\"User_Id\")\n",
    "l2=Label(win,text=\"Name\")\n",
    "l3=Label(win,text=\"Email\")\n",
    "l4=Label(win,text=\"Password\")\n",
    "l5=Label(win,text=\"Role\")\n",
    "\n",
    "l1.grid(row=0,column=0,sticky=N,pady=10,padx=10)\n",
    "l2.grid(row=1,column=0,sticky=N,pady=10,padx=10)\n",
    "l3.grid(row=2,column=0,sticky=N,pady=10,padx=10)\n",
    "l4.grid(row=3,column=0,sticky=N,pady=10,padx=10)\n",
    "l5.grid(row=4,column=0,sticky=N,pady=10,padx=10)\n",
    "\n",
    "e1=Entry(win)\n",
    "e2=Entry(win)\n",
    "e3=Entry(win)\n",
    "e4=Entry(win)\n",
    "r1=Radiobutton(win,text=\"Appointment Seeker\")\n",
    "r2=Radiobutton(win,text=\"Appointment Taker\")\n",
    "\n",
    "e1.grid(row=0,column=1,sticky=N,pady=10)\n",
    "e2.grid(row=1,column=1,sticky=N,pady=10)\n",
    "e3.grid(row=2,column=1,sticky=N,pady=10)\n",
    "e4.grid(row=3,column=1,sticky=N,pady=10)\n",
    "r1.grid(row=4,column=1,sticky=N)\n",
    "r2.grid(row=5,column=1,sticky=N)\n",
    "\n",
    "b1=Button(win,text=\"Register Now\",bg=\"blue\",fg=\"white\",command=clicked)\n",
    "b1.grid(row=6,column=0,columnspan=2,pady=10)\n",
    "\n",
    "m=Messagebox(win,text)\n",
    "\n",
    "win.mainloop()\n"
   ]
  }
 ],
 "metadata": {
  "kernelspec": {
   "display_name": "Python 3 (ipykernel)",
   "language": "python",
   "name": "python3"
  },
  "language_info": {
   "codemirror_mode": {
    "name": "ipython",
    "version": 3
   },
   "file_extension": ".py",
   "mimetype": "text/x-python",
   "name": "python",
   "nbconvert_exporter": "python",
   "pygments_lexer": "ipython3",
   "version": "3.9.13"
  }
 },
 "nbformat": 4,
 "nbformat_minor": 5
}
