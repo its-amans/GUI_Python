{
 "cells": [
  {
   "cell_type": "code",
   "execution_count": 21,
   "id": "ca535368",
   "metadata": {},
   "outputs": [],
   "source": [
    "from tkinter import *\n",
    "win=Tk()\n",
    "\n",
    "file_menu=Menu(win)\n",
    "f_menu=Menu(file_menu,tearoff=0)\n",
    "f_menu.add_command(label=\"Open\")\n",
    "f_menu.add_command(label=\"Open\")\n",
    "f_menu.add_command(label=\"Open\")\n",
    "f_menu.add_command(label=\"Open\")\n",
    "\n",
    "win.config(menu=file_menu)\n",
    "file_menu.add_cascade(label=\"File\",menu=f_menu)\n",
    "#Here it is on the win title\n",
    "win.mainloop()"
   ]
  },
  {
   "cell_type": "code",
   "execution_count": 20,
   "id": "436d9dd9",
   "metadata": {},
   "outputs": [],
   "source": [
    "from tkinter import *\n",
    "win=Tk()\n",
    "\n",
    "menu_button=Menubutton(win,text=\"File\")\n",
    "menu_button.menu=Menu(menu_button)\n",
    "menu_button[\"menu\"]=menu_button.menu\n",
    "\n",
    "menu_button.menu.add_checkbutton(label=\"open\")\n",
    "menu_button.menu.add_checkbutton(label=\"close\")\n",
    "\n",
    "menu_button.pack()\n",
    "#Here pack method is needed so menu\n",
    "#will be on the window screen not on window title\n",
    "win.mainloop()"
   ]
  },
  {
   "cell_type": "code",
   "execution_count": null,
   "id": "58cc79ea",
   "metadata": {},
   "outputs": [],
   "source": []
  },
  {
   "cell_type": "code",
   "execution_count": null,
   "id": "2496d993",
   "metadata": {},
   "outputs": [],
   "source": []
  }
 ],
 "metadata": {
  "kernelspec": {
   "display_name": "Python 3 (ipykernel)",
   "language": "python",
   "name": "python3"
  },
  "language_info": {
   "codemirror_mode": {
    "name": "ipython",
    "version": 3
   },
   "file_extension": ".py",
   "mimetype": "text/x-python",
   "name": "python",
   "nbconvert_exporter": "python",
   "pygments_lexer": "ipython3",
   "version": "3.9.13"
  }
 },
 "nbformat": 4,
 "nbformat_minor": 5
}
