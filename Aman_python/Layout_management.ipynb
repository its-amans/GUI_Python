{
 "cells": [
  {
   "cell_type": "code",
   "execution_count": 2,
   "id": "c81bfcea",
   "metadata": {},
   "outputs": [],
   "source": [
    "from tkinter import *"
   ]
  },
  {
   "cell_type": "code",
   "execution_count": 13,
   "id": "6455f082",
   "metadata": {},
   "outputs": [],
   "source": [
    "win=Tk()\n",
    "\n",
    "label1=Label(win,text=\"Aman Srivastava\",font=(\"Times New Roman\",30,\"bold\"),bg=\"red\",fg=\"white\")\n",
    "label1.pack(padx=20,pady=50,ipadx=\"5\",ipady=\"5\",expand=True,fill=\"x\")\n",
    "win.mainloop()"
   ]
  },
  {
   "cell_type": "code",
   "execution_count": 3,
   "id": "4e1c3ea9",
   "metadata": {},
   "outputs": [],
   "source": [
    "win=Tk()\n",
    "label1=Label(win,text=\"Aman Srivastava\",font=(\"Times New Roman\",30,\"bold\"),bg=\"red\",fg=\"white\")\n",
    "label1.pack(padx=20,pady=50,ipadx=\"5\",ipady=\"5\",side=\"left\")\n",
    "\n",
    "label1=Label(win,text=\"Aman Srivastava\",font=(\"Times New Roman\",30,\"bold\"),bg=\"red\",fg=\"white\")\n",
    "label1.pack(padx=20,pady=50,ipadx=\"5\",ipady=\"5\",side=\"left\")\n",
    "win.mainloop()"
   ]
  },
  {
   "cell_type": "code",
   "execution_count": 63,
   "id": "78b962e8",
   "metadata": {},
   "outputs": [],
   "source": [
    "# The grid method\n",
    "win=Tk()\n",
    "\n",
    "lab1=Label(win,text=\"chaman\",font=(\"Roboto\",10,\"bold\"),fg=\"aqua\",bg=\"#fe3038\")\n",
    "lab1.grid(row=0,column=0,sticky=W,padx=2,pady=2)\n",
    "\n",
    "lab1=Label(win,text=\"Aman\",font=(\"Roboto\",10,\"bold\"),fg=\"blue\",bg=\"#be3038\")\n",
    "lab1.grid(row=1,column=0,sticky=W,padx=2,pady=2)\n",
    "\n",
    "\n",
    "#Entry is used to take entry from the user\n",
    "e1=Entry(win)\n",
    "e2=Entry(win)\n",
    "\n",
    "e1.grid(row=0,column=1)\n",
    "e2.grid(row=1,column=1)\n",
    "\n",
    "win.mainloop()"
   ]
  },
  {
   "cell_type": "code",
   "execution_count": 64,
   "id": "ce73b130",
   "metadata": {},
   "outputs": [],
   "source": [
    "# import tkinter module\n",
    "from tkinter import *\n",
    " \n",
    "# creating main tkinter window/toplevel\n",
    "master = Tk()\n",
    " \n",
    "# this will create a label widget\n",
    "l1 = Label(master, text = \"First:\")\n",
    "l2 = Label(master, text = \"Second:\")\n",
    " \n",
    "# grid method to arrange labels in respective\n",
    "# rows and columns as specified\n",
    "l1.grid(row = 0, column = 0, sticky = W, pady = 2)\n",
    "l2.grid(row = 1, column = 0, sticky = W, pady = 2)\n",
    " \n",
    "# entry widgets, used to take entry from user\n",
    "e1 = Entry(master)\n",
    "e2 = Entry(master)\n",
    " \n",
    "# this will arrange entry widgets\n",
    "e1.grid(row = 0, column = 1, pady = 2)\n",
    "e2.grid(row = 1, column = 1, pady = 2)\n",
    " \n",
    "# infinite loop which can be terminated by keyboard\n",
    "# or mouse interrupt\n",
    "mainloop()"
   ]
  },
  {
   "cell_type": "code",
   "execution_count": 3,
   "id": "128ef7fc",
   "metadata": {},
   "outputs": [],
   "source": [
    "#The place method:best method\n",
    "win=Tk()\n",
    "\n",
    "l1=Label(win,text=\"Python Gui\",bg=\"black\",fg=\"white\")\n",
    "l1.place(x=200,y=20,width=300,height=300)\n",
    "\n",
    "l2=Label(win,text=\"Python Gui\",bg=\"black\",fg=\"white\")\n",
    "l2.place(x=200,y=20,relwidth=0.2,relheight=0.4,relx=0.5,rely=0.5,anchor=S)\n",
    "win.mainloop()"
   ]
  }
 ],
 "metadata": {
  "kernelspec": {
   "display_name": "Python 3 (ipykernel)",
   "language": "python",
   "name": "python3"
  },
  "language_info": {
   "codemirror_mode": {
    "name": "ipython",
    "version": 3
   },
   "file_extension": ".py",
   "mimetype": "text/x-python",
   "name": "python",
   "nbconvert_exporter": "python",
   "pygments_lexer": "ipython3",
   "version": "3.9.13"
  }
 },
 "nbformat": 4,
 "nbformat_minor": 5
}
