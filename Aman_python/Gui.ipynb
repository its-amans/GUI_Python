{
 "cells": [
  {
   "cell_type": "code",
   "execution_count": 4,
   "id": "2272f99e",
   "metadata": {},
   "outputs": [],
   "source": [
    "from tkinter import*\n",
    "container=Tk()\n",
    "container.mainloop()"
   ]
  },
  {
   "cell_type": "code",
   "execution_count": 14,
   "id": "ca72ea5e",
   "metadata": {},
   "outputs": [],
   "source": [
    "from tkinter import *\n",
    "container=Tk()\n",
    "#ADDING LABEL AND BUTTONS(THESE ARE CLASS)\n",
    "w_label=Label(container,text=\"This is me Aman!\",fg=\"black\", bg=\"orange\")\n",
    "w_button=Button(container,text=\"Click me\")\n",
    "#PACK IS A METHOD OF LABEL AND BUTTON CLASS\n",
    "w_label.pack()\n",
    "w_button.pack()\n",
    "container.mainloop()"
   ]
  },
  {
   "cell_type": "code",
   "execution_count": null,
   "id": "04508318",
   "metadata": {},
   "outputs": [],
   "source": [
    "from tkinter import *\n",
    "from tkinter import messagebox\n",
    "def btn_function():\n",
    "    msg=messagebox.showinfo(\"POP-UP\",\"This is a pop up\")\n",
    "container=Tk()\n",
    "w_button=Button(container,text=\"Click me\",command=btn_function)\n",
    "w_button.pack()\n",
    "container.mainloop()\n"
   ]
  },
  {
   "cell_type": "code",
   "execution_count": null,
   "id": "68addffa",
   "metadata": {},
   "outputs": [],
   "source": [
    "from tkinter import *\n",
    "variable_1=Intvar()\n",
    "variable2=Intvar()\n",
    "container=Tk()\n",
    "btn1=Checkbox(container,var=variable_1,)"
   ]
  },
  {
   "cell_type": "code",
   "execution_count": null,
   "id": "684a85af",
   "metadata": {},
   "outputs": [],
   "source": []
  }
 ],
 "metadata": {
  "kernelspec": {
   "display_name": "Python 3 (ipykernel)",
   "language": "python",
   "name": "python3"
  },
  "language_info": {
   "codemirror_mode": {
    "name": "ipython",
    "version": 3
   },
   "file_extension": ".py",
   "mimetype": "text/x-python",
   "name": "python",
   "nbconvert_exporter": "python",
   "pygments_lexer": "ipython3",
   "version": "3.9.13"
  }
 },
 "nbformat": 4,
 "nbformat_minor": 5
}
