{
 "cells": [
  {
   "cell_type": "code",
   "execution_count": 1,
   "id": "2fbc1195",
   "metadata": {},
   "outputs": [],
   "source": [
    "#menu\n",
    "from tkinter import *"
   ]
  },
  {
   "cell_type": "code",
   "execution_count": 18,
   "id": "47feb68e",
   "metadata": {},
   "outputs": [],
   "source": [
    "win=Tk()\n",
    "\n",
    "main_menu=Menu(win)\n",
    "win.config(menu=main_menu)\n",
    "\n",
    "#File\n",
    "f_menu=Menu(main_menu,tearoff=False)\n",
    "main_menu.add_cascade(label=\"File\",menu=f_menu)\n",
    "f_menu.add_command(label=\"Open\")\n",
    "\n",
    "#Creating a sub menu\n",
    "f_sub_menu=Menu(f_menu,tearoff=False)\n",
    "f_menu.add_cascade(label=\"Open with\",menu=f_sub_menu)\n",
    "f_sub_menu.add_command(label=\"Notepad\")\n",
    "f_sub_menu.add_command(label=\"Amanpad\")\n",
    "\n",
    "f_menu.add_command(label=\"Close\")\n",
    "#To add a separator\n",
    "f_menu.add_separator()\n",
    "f_menu.add_command(label=\"Save\")\n",
    "f_menu.add_command(label=\"Save as\")\n",
    "#Edit\n",
    "e_menu=Menu(main_menu,tearoff=0)\n",
    "main_menu.add_cascade(label=\"Edit\",menu=e_menu)\n",
    "e_menu.add_command(label=\"Cut\")\n",
    "e_menu.add_command(label=\"Copy\")\n",
    "#To add a separator\n",
    "e_menu.add_separator()\n",
    "e_menu.add_command(label=\"Paste\")\n",
    "e_menu.add_command(label=\"Undo\")\n",
    "\n",
    "win.mainloop()"
   ]
  },
  {
   "cell_type": "code",
   "execution_count": null,
   "id": "c3afd0e3",
   "metadata": {},
   "outputs": [],
   "source": []
  },
  {
   "cell_type": "code",
   "execution_count": null,
   "id": "595ec011",
   "metadata": {},
   "outputs": [],
   "source": []
  }
 ],
 "metadata": {
  "kernelspec": {
   "display_name": "Python 3 (ipykernel)",
   "language": "python",
   "name": "python3"
  },
  "language_info": {
   "codemirror_mode": {
    "name": "ipython",
    "version": 3
   },
   "file_extension": ".py",
   "mimetype": "text/x-python",
   "name": "python",
   "nbconvert_exporter": "python",
   "pygments_lexer": "ipython3",
   "version": "3.9.13"
  }
 },
 "nbformat": 4,
 "nbformat_minor": 5
}
