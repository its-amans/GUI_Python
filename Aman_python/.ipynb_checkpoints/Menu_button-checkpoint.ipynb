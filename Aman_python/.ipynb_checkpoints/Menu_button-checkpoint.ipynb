{
 "cells": [
  {
   "cell_type": "code",
   "execution_count": 12,
   "id": "696d96a0",
   "metadata": {},
   "outputs": [],
   "source": [
    "from tkinter import *\n",
    "win=Tk()\n",
    "\n",
    "file_menu=Menu(win)\n",
    "f_menu=Menu(file_menu,tearoff=0)\n",
    "f_menu.add_command(label=\"Open\")\n",
    "f_menu.add_command(label=\"Open\")\n",
    "f_menu.add_command(label=\"Open\")\n",
    "f_menu.add_command(label=\"Open\")\n",
    "\n",
    "win.config(menu=file_menu)\n",
    "file_menu.add_cascade(label=\"File\",menu=f_menu)\n",
    "win.mainloop()"
   ]
  },
  {
   "cell_type": "code",
   "execution_count": 19,
   "id": "1b24d093",
   "metadata": {},
   "outputs": [],
   "source": [
    "from tkinter import *\n",
    "win=Tk()\n",
    "\n",
    "menu_button=Menubutton(win,text=\"File\")\n",
    "menu_button.menu=Menu(menu_button)\n",
    "menu_button[\"menu\"]=menu_button.menu\n",
    "\n",
    "menu_button.menu.add_checkbutton(label=\"open\")\n",
    "menu_button.menu.add_checkbutton(label=\"close\")\n",
    "\n",
    "menu_button.pack()\n",
    "win.mainloop()"
   ]
  },
  {
   "cell_type": "code",
   "execution_count": null,
   "id": "8b99d536",
   "metadata": {},
   "outputs": [],
   "source": []
  },
  {
   "cell_type": "code",
   "execution_count": null,
   "id": "55ef3a72",
   "metadata": {},
   "outputs": [],
   "source": []
  }
 ],
 "metadata": {
  "kernelspec": {
   "display_name": "Python 3 (ipykernel)",
   "language": "python",
   "name": "python3"
  },
  "language_info": {
   "codemirror_mode": {
    "name": "ipython",
    "version": 3
   },
   "file_extension": ".py",
   "mimetype": "text/x-python",
   "name": "python",
   "nbconvert_exporter": "python",
   "pygments_lexer": "ipython3",
   "version": "3.9.13"
  }
 },
 "nbformat": 4,
 "nbformat_minor": 5
}
