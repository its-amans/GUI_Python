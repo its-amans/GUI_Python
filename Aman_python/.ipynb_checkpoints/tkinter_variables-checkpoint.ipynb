{
 "cells": [
  {
   "cell_type": "code",
   "execution_count": 1,
   "id": "69246a64",
   "metadata": {},
   "outputs": [],
   "source": [
    "from tkinter import *"
   ]
  },
  {
   "cell_type": "code",
   "execution_count": 16,
   "id": "7e92aba6",
   "metadata": {},
   "outputs": [
    {
     "name": "stdout",
     "output_type": "stream",
     "text": [
      "aman\n"
     ]
    }
   ],
   "source": [
    "win=Tk()\n",
    "var1=StringVar(win,value=\"aman\")\n",
    "l1=Label(win,textvariable=var1,bg=\"red\")\n",
    "print(var1.get())\n",
    "l1.pack()\n",
    "win.mainloop()"
   ]
  },
  {
   "cell_type": "code",
   "execution_count": null,
   "id": "7e062d5f",
   "metadata": {},
   "outputs": [],
   "source": [
    "\n",
    "win=Tk()\n",
    "#entry=input(\"Enter the string\")\n",
    "var1=StringVar(win)\n",
    "var1.set(\"aman\")\n",
    "l1=Label(win,textvariable=var1,bg=\"red\")\n",
    "l1.pack()\n",
    "win.mainloop()"
   ]
  },
  {
   "cell_type": "code",
   "execution_count": null,
   "id": "5ec8902b",
   "metadata": {},
   "outputs": [],
   "source": [
    "win=Tk()\n",
    "var1=IntVar(win,value=1)\n",
    "var2=DoubleVaer(win,value=12.23)\n",
    "var3=BolleanVar(win,value=True)\n",
    "print(var1,var2,var3)\n",
    "win.mainloop()"
   ]
  },
  {
   "cell_type": "code",
   "execution_count": null,
   "id": "80295d0f",
   "metadata": {},
   "outputs": [],
   "source": []
  }
 ],
 "metadata": {
  "kernelspec": {
   "display_name": "Python 3 (ipykernel)",
   "language": "python",
   "name": "python3"
  },
  "language_info": {
   "codemirror_mode": {
    "name": "ipython",
    "version": 3
   },
   "file_extension": ".py",
   "mimetype": "text/x-python",
   "name": "python",
   "nbconvert_exporter": "python",
   "pygments_lexer": "ipython3",
   "version": "3.9.13"
  }
 },
 "nbformat": 4,
 "nbformat_minor": 5
}
