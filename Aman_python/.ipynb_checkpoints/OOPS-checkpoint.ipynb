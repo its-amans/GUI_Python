{
 "cells": [
  {
   "cell_type": "code",
   "execution_count": 2,
   "id": "f6b85344-e25c-4cd7-92e6-84bcb0592092",
   "metadata": {},
   "outputs": [
    {
     "name": "stdout",
     "output_type": "stream",
     "text": [
      "Aman\n"
     ]
    }
   ],
   "source": [
    "print(\"Aman\")\n"
   ]
  },
  {
   "cell_type": "code",
   "execution_count": 22,
   "id": "5a86b68e-cc6c-47ec-9fe4-bdc444cf185e",
   "metadata": {},
   "outputs": [
    {
     "name": "stdout",
     "output_type": "stream",
     "text": [
      "10\n"
     ]
    }
   ],
   "source": [
    "a=5\n",
    "b=5\n",
    "print(a+b);"
   ]
  },
  {
   "cell_type": "code",
   "execution_count": 3,
   "id": "41282038-49a9-4a50-b06c-c5657079f5e8",
   "metadata": {},
   "outputs": [
    {
     "name": "stdout",
     "output_type": "stream",
     "text": [
      "5\n"
     ]
    }
   ],
   "source": [
    "class SimpleClass:\n",
    "    y=5\n",
    "obj1=SimpleClass()\n",
    "print(obj1.y)"
   ]
  },
  {
   "cell_type": "code",
   "execution_count": 1,
   "id": "3d6491b9-5e17-4b76-9c7c-8f628d555717",
   "metadata": {},
   "outputs": [
    {
     "name": "stdout",
     "output_type": "stream",
     "text": [
      "Aman Srivastava\n"
     ]
    }
   ],
   "source": [
    "class Employee:\n",
    "    name=\"Aman Srivastava\"\n",
    "e1=Employee()\n",
    "print(e1.name)"
   ]
  },
  {
   "cell_type": "code",
   "execution_count": 21,
   "id": "1272a5cf",
   "metadata": {},
   "outputs": [
    {
     "name": "stdout",
     "output_type": "stream",
     "text": [
      "Acessing the class member by class name outside the class  1\n",
      "Acessing class memeber Outside class by object 1\n",
      "Nmae is  Aman Srivastava\n",
      "Acessising class member inside the class by class name   1\n"
     ]
    }
   ],
   "source": [
    "class Employee:               # the func like __funcName__() are called magic function.The function which are predefined but can be \n",
    "                              # modified if needed that function is called the magic function.\n",
    "    count=0;                  # self is the pointer to the current object.It is default arg for init func\n",
    "                              # init method is used to initialise the value of the pointer.\n",
    "    def __init__(self,name):  # Whenever the object is created the init func is called by default.\n",
    "        self.name=name;\n",
    "        Employee.count+=1;\n",
    "    def showEmployee(self):\n",
    "        print(\"Nmae is \",self.name)\n",
    "        print(\"Acessising class member inside the class by class name  \",Employee.count)\n",
    "e1=Employee(\"Aman Srivastava\")\n",
    "print(\"Acessing the class member by class name outside the class \",Employee.count)\n",
    "print(\"Acessing class memeber Outside class by object\",e1.count)\n",
    "e1.showEmployee()"
   ]
  },
  {
   "cell_type": "code",
   "execution_count": 28,
   "id": "2dc93bae",
   "metadata": {},
   "outputs": [
    {
     "ename": "TypeError",
     "evalue": "super() argument 1 must be type, not Employee",
     "output_type": "error",
     "traceback": [
      "\u001b[1;31m---------------------------------------------------------------------------\u001b[0m",
      "\u001b[1;31mTypeError\u001b[0m                                 Traceback (most recent call last)",
      "\u001b[1;32m~\\AppData\\Local\\Temp\\ipykernel_22952\\174011907.py\u001b[0m in \u001b[0;36m<module>\u001b[1;34m\u001b[0m\n\u001b[0;32m     12\u001b[0m         \u001b[0msuper\u001b[0m\u001b[1;33m(\u001b[0m\u001b[0mself\u001b[0m\u001b[1;33m)\u001b[0m\u001b[1;33m.\u001b[0m\u001b[0mdisplay\u001b[0m\u001b[1;33m(\u001b[0m\u001b[1;33m)\u001b[0m\u001b[1;33m\u001b[0m\u001b[1;33m\u001b[0m\u001b[0m\n\u001b[0;32m     13\u001b[0m         \u001b[0mprint\u001b[0m\u001b[1;33m(\u001b[0m\u001b[1;34m\"Employee id is \"\u001b[0m\u001b[1;33m,\u001b[0m\u001b[0mself\u001b[0m\u001b[1;33m.\u001b[0m\u001b[0memployeeId\u001b[0m\u001b[1;33m)\u001b[0m\u001b[1;33m\u001b[0m\u001b[1;33m\u001b[0m\u001b[0m\n\u001b[1;32m---> 14\u001b[1;33m \u001b[0me1\u001b[0m\u001b[1;33m=\u001b[0m\u001b[0mEmployee\u001b[0m\u001b[1;33m(\u001b[0m\u001b[1;34m\"Aman Srivastava\"\u001b[0m\u001b[1;33m,\u001b[0m\u001b[1;36m12\u001b[0m\u001b[1;33m,\u001b[0m\u001b[1;36m221122\u001b[0m\u001b[1;33m)\u001b[0m\u001b[1;33m\u001b[0m\u001b[1;33m\u001b[0m\u001b[0m\n\u001b[0m\u001b[0;32m     15\u001b[0m \u001b[0me1\u001b[0m\u001b[1;33m.\u001b[0m\u001b[0mdiaplayFun\u001b[0m\u001b[1;33m(\u001b[0m\u001b[1;33m)\u001b[0m\u001b[1;33m\u001b[0m\u001b[1;33m\u001b[0m\u001b[0m\n",
      "\u001b[1;32m~\\AppData\\Local\\Temp\\ipykernel_22952\\174011907.py\u001b[0m in \u001b[0;36m__init__\u001b[1;34m(self, name, age, employeeId)\u001b[0m\n\u001b[0;32m      7\u001b[0m \u001b[1;32mclass\u001b[0m \u001b[0mEmployee\u001b[0m\u001b[1;33m(\u001b[0m\u001b[0mCompany\u001b[0m\u001b[1;33m)\u001b[0m\u001b[1;33m:\u001b[0m\u001b[1;33m\u001b[0m\u001b[1;33m\u001b[0m\u001b[0m\n\u001b[0;32m      8\u001b[0m     \u001b[1;32mdef\u001b[0m \u001b[0m__init__\u001b[0m\u001b[1;33m(\u001b[0m\u001b[0mself\u001b[0m\u001b[1;33m,\u001b[0m\u001b[0mname\u001b[0m\u001b[1;33m,\u001b[0m\u001b[0mage\u001b[0m\u001b[1;33m,\u001b[0m\u001b[0memployeeId\u001b[0m\u001b[1;33m)\u001b[0m\u001b[1;33m:\u001b[0m\u001b[1;33m\u001b[0m\u001b[1;33m\u001b[0m\u001b[0m\n\u001b[1;32m----> 9\u001b[1;33m         \u001b[0msuper\u001b[0m\u001b[1;33m(\u001b[0m\u001b[0mself\u001b[0m\u001b[1;33m)\u001b[0m\u001b[1;33m.\u001b[0m\u001b[0m__init__\u001b[0m\u001b[1;33m(\u001b[0m\u001b[0mself\u001b[0m\u001b[1;33m,\u001b[0m\u001b[0mname\u001b[0m\u001b[1;33m,\u001b[0m\u001b[0mage\u001b[0m\u001b[1;33m)\u001b[0m\u001b[1;33m\u001b[0m\u001b[1;33m\u001b[0m\u001b[0m\n\u001b[0m\u001b[0;32m     10\u001b[0m         \u001b[0mself\u001b[0m\u001b[1;33m.\u001b[0m\u001b[0memployeeId\u001b[0m\u001b[1;33m=\u001b[0m\u001b[0memployeeId\u001b[0m\u001b[1;33m\u001b[0m\u001b[1;33m\u001b[0m\u001b[0m\n\u001b[0;32m     11\u001b[0m     \u001b[1;32mdef\u001b[0m \u001b[0mdisplayFun\u001b[0m\u001b[1;33m(\u001b[0m\u001b[0mself\u001b[0m\u001b[1;33m)\u001b[0m\u001b[1;33m:\u001b[0m\u001b[1;33m\u001b[0m\u001b[1;33m\u001b[0m\u001b[0m\n",
      "\u001b[1;31mTypeError\u001b[0m: super() argument 1 must be type, not Employee"
     ]
    }
   ],
   "source": [
    "class Company:\n",
    "    def __init__(self,name,age):\n",
    "        self.name=name;\n",
    "        self.age=age;\n",
    "    def display(self):\n",
    "        print(\"Nmae is \",self.name,\"Age is\",self.age)\n",
    "class Employee(Company):\n",
    "    def __init__(self,name,age,employeeId):\n",
    "        super(self).__init__(self,name,age)\n",
    "        self.employeeId=employeeId\n",
    "    def displayFun(self):\n",
    "        super(self).display()\n",
    "        print(\"Employee id is \",self.employeeId)\n",
    "e1=Employee(\"Aman Srivastava\",12,221122)\n",
    "e1.diaplayFun()"
   ]
  },
  {
   "cell_type": "code",
   "execution_count": 14,
   "id": "7e37057f",
   "metadata": {},
   "outputs": [
    {
     "name": "stdout",
     "output_type": "stream",
     "text": [
      "Employee id is  22\n",
      "Name is  aman\n",
      "Age is  17\n",
      "Department_name is  Cse\n"
     ]
    }
   ],
   "source": [
    "class Company:\n",
    "    def __init__(self,name,age):\n",
    "        self.name=name\n",
    "        self.age=age\n",
    "class Department:\n",
    "    def __init__(self,department_name):\n",
    "        self.department_name=department_name\n",
    "class Employee(Company,Department):\n",
    "    def __init__(self,employee_id,name,age,department_name):\n",
    "        Company.__init__(self,name,age)\n",
    "        Department.__init__(self,department_name)\n",
    "        self.employee_id=employee_id\n",
    "    def display(self):\n",
    "        print(\"Employee id is \",self.employee_id)\n",
    "        print(\"Name is \",self.name)\n",
    "        print(\"Age is \",self.age)\n",
    "        print(\"Department_name is \",self.department_name)\n",
    "\n",
    "e1=Employee(22,\"aman\",17,\"Cse\")\n",
    "e1.display()\n",
    "        \n",
    "    "
   ]
  },
  {
   "cell_type": "code",
   "execution_count": 20,
   "id": "c526294f",
   "metadata": {},
   "outputs": [
    {
     "name": "stdout",
     "output_type": "stream",
     "text": [
      "Area is  8\n",
      "Area is  4\n",
      "Area is  78.5\n"
     ]
    }
   ],
   "source": [
    "from abc import ABC ,abstractmethod\n",
    "#import abc\n",
    "class Shape(ABC):\n",
    "    @abstractmethod\n",
    "    def Area():\n",
    "        pass\n",
    "class Rectangle(Shape):\n",
    "    \n",
    "    def __init__(self,length,breadth):\n",
    "        Shape.__init__(self)\n",
    "        self.length=length\n",
    "        self.breadth=breadth\n",
    "    def Area(self):\n",
    "        print(\"Area is \",self.length*self.breadth)\n",
    "class Triangle(Shape):\n",
    "    def __init__(self,height,base):\n",
    "        Shape.__init__(self)\n",
    "        self.height=height\n",
    "        self.base=base\n",
    "    def Area(self):\n",
    "        print(\"Area is \",self.height*self.base//2)\n",
    "class Circle(Shape):\n",
    "    def __init__(self,radius):\n",
    "        Shape.__init__(self)\n",
    "        self.radius=radius\n",
    "    def Area(self):\n",
    "        print(\"Area is \",3.14*self.radius*self.radius)\n",
    "r1=Rectangle(2,4)\n",
    "r1.Area()\n",
    "t1=Triangle(2,4)\n",
    "t1.Area()\n",
    "c1=Circle(5)\n",
    "c1.Area()"
   ]
  },
  {
   "cell_type": "code",
   "execution_count": 10,
   "id": "0744f4e3",
   "metadata": {},
   "outputs": [
    {
     "name": "stdout",
     "output_type": "stream",
     "text": [
      "3.5\n"
     ]
    }
   ],
   "source": [
    "def calculate_average(my_list):\n",
    "    sum=0\n",
    "    count=0\n",
    "    for i in my_list:\n",
    "        sum=sum+i\n",
    "        count=count+1\n",
    "    return sum/count\n",
    "print(calculate_average([1,2,3,4,5,6]))"
   ]
  },
  {
   "cell_type": "code",
   "execution_count": 19,
   "id": "c1756d49",
   "metadata": {},
   "outputs": [
    {
     "name": "stdout",
     "output_type": "stream",
     "text": [
      "[6, 5, 4, 3, 2, 1]\n",
      "[1, 2, 3, 4, 5, 6]\n"
     ]
    }
   ],
   "source": [
    "def reverse_list(my_list):\n",
    "    #Two pointer approach\n",
    "    left=0\n",
    "    right=len(my_list)-1\n",
    "    while left<=right:\n",
    "        temp=my_list[left]\n",
    "        my_list[left]=my_list[right]\n",
    "        my_list[right]=temp\n",
    "        left=left+1\n",
    "        right=right-1\n",
    "    return my_list\n",
    "list=[1,2,3,4,5,6]\n",
    "print(reverse_list(list))\n",
    "list.reverse()\n",
    "print(list)\n",
    "#print(list(reversed(list)))\n",
    "\n",
    "\n"
   ]
  },
  {
   "cell_type": "code",
   "execution_count": 44,
   "id": "36f06289",
   "metadata": {},
   "outputs": [
    {
     "name": "stdout",
     "output_type": "stream",
     "text": [
      "100.0\n",
      "Name is  Aman\n",
      "Salary is  2000 and extra employee bonus of  100.0\n",
      "200.0\n",
      "Name is  Aman\n",
      "Designation is  Manager\n",
      "Salary is  2000 and extra bonus of  200.0\n"
     ]
    }
   ],
   "source": [
    "class Employee:\n",
    "    def __init__(self,name,salary):\n",
    "        self.name=name\n",
    "        self.salary=salary\n",
    "    def calculate_bonus(self):\n",
    "        return (self.salary*5)/100\n",
    "    def display(self):\n",
    "        print(\"Name is \",self.name)\n",
    "        print(\"Salary is \",self.salary,\"and extra employee bonus of \",self.calculate_bonus())\n",
    "class Manager(Employee):\n",
    "    def __init__(self,name,salary,post):\n",
    "        Employee.__init__(self,name,salary)\n",
    "        self.name=name\n",
    "        self.salary=salary\n",
    "        self.post=post\n",
    "    def calculate_bonus(self):\n",
    "        return (self.salary*10)/100\n",
    "    def display(self):\n",
    "        print(\"Name is \",self.name)\n",
    "        print(\"Designation is \",self.post)\n",
    "        print(\"Salary is \",self.salary,\"and extra bonus of \",self.calculate_bonus())\n",
    "e1=Employee(\"Aman\",2000)\n",
    "print(e1.calculate_bonus())\n",
    "e1.display()\n",
    "e2=Manager(\"Chaman\",2000,\"Manager\")\n",
    "print(e2.calculate_bonus())\n",
    "e2.display()\n",
    "    \n",
    "        \n",
    "    "
   ]
  },
  {
   "cell_type": "code",
   "execution_count": 45,
   "id": "0d35a767",
   "metadata": {},
   "outputs": [
    {
     "name": "stdout",
     "output_type": "stream",
     "text": [
      "Vehicle is driving\n",
      "Car is driving\n",
      "Motorcycle is driving\n"
     ]
    }
   ],
   "source": [
    "class Vehicle:\n",
    "    def drive(self):\n",
    "        print(\"Vehicle is driving\")\n",
    "class Car(Vehicle):\n",
    "    def drive(self):\n",
    "        print(\"Car is driving\")\n",
    "class Motorcycle(Vehicle):\n",
    "    def drive(self):\n",
    "        print(\"Motorcycle is driving\")\n",
    "v=Vehicle()\n",
    "v.drive()\n",
    "c=Car()\n",
    "c.drive()\n",
    "m=Motorcycle()\n",
    "m.drive()"
   ]
  },
  {
   "cell_type": "code",
   "execution_count": null,
   "id": "afbca53d",
   "metadata": {},
   "outputs": [],
   "source": []
  }
 ],
 "metadata": {
  "kernelspec": {
   "display_name": "Python 3 (ipykernel)",
   "language": "python",
   "name": "python3"
  },
  "language_info": {
   "codemirror_mode": {
    "name": "ipython",
    "version": 3
   },
   "file_extension": ".py",
   "mimetype": "text/x-python",
   "name": "python",
   "nbconvert_exporter": "python",
   "pygments_lexer": "ipython3",
   "version": "3.9.13"
  }
 },
 "nbformat": 4,
 "nbformat_minor": 5
}
