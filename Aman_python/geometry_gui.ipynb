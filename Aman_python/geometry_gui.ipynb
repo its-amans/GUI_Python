{
 "cells": [
  {
   "cell_type": "code",
   "execution_count": 1,
   "id": "4ffb22d2",
   "metadata": {},
   "outputs": [],
   "source": [
    "from tkinter import *"
   ]
  },
  {
   "cell_type": "code",
   "execution_count": 13,
   "id": "65da50f1",
   "metadata": {},
   "outputs": [],
   "source": [
    "win=Tk()\n",
    "# To change the title of the window\n",
    "win.title(\"****** Aman Window *******\") \n",
    "\n",
    "# To add icon on the window \n",
    "# Here r is used to show absolute path instead you can use //\n",
    "win.iconbitmap(r\"C:\\Users\\amans\\Downloads\\amn.ico\")\n",
    "\n",
    "#to make the window transparent \n",
    "win.attributes('-alpha',0.5)\n",
    "\n",
    "# To change the background of the window\n",
    "# win.config(bg=\"red\")\n",
    "#Another way \n",
    "win['bg']=\"yellow\"\n",
    "win.mainloop()"
   ]
  },
  {
   "cell_type": "code",
   "execution_count": 2,
   "id": "e42631c4",
   "metadata": {},
   "outputs": [],
   "source": [
    "#3\n",
    "win=Tk()\n",
    "# Resizing the window size\n",
    "win.geometry('220x500')\n",
    "# positioning your window\n",
    "win.geometry('300x200-50-50')\n",
    "\n",
    "# positioning your winsdow to the center\n",
    "width=300\n",
    "height=500\n",
    "\n",
    "sys_width=win.winfo_screenwidth()\n",
    "sys_height=win.winfo_screenheight()\n",
    "\n",
    "c_x=int(sys_width/2-width/2)\n",
    "c_y=int(sys_height/2-height/2)\n",
    "\n",
    "win.geometry(f\"{width}x{height}+{c_x}+{c_y}\")\n",
    "win.mainloop()"
   ]
  },
  {
   "cell_type": "code",
   "execution_count": 32,
   "id": "d13b5d12",
   "metadata": {},
   "outputs": [],
   "source": [
    "#fixing the size of the window\n",
    "win=Tk()\n",
    "win.minsize(300,200)\n",
    "win.maxsize(400,500)\n",
    "\n",
    "# to remove the resizable option\n",
    "# win.resizable(False,False)\n",
    "win.mainloop()"
   ]
  }
 ],
 "metadata": {
  "kernelspec": {
   "display_name": "Python 3 (ipykernel)",
   "language": "python",
   "name": "python3"
  },
  "language_info": {
   "codemirror_mode": {
    "name": "ipython",
    "version": 3
   },
   "file_extension": ".py",
   "mimetype": "text/x-python",
   "name": "python",
   "nbconvert_exporter": "python",
   "pygments_lexer": "ipython3",
   "version": "3.9.13"
  }
 },
 "nbformat": 4,
 "nbformat_minor": 5
}
