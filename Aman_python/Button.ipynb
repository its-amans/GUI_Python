{
 "cells": [
  {
   "cell_type": "code",
   "execution_count": 2,
   "id": "3289b273",
   "metadata": {},
   "outputs": [],
   "source": [
    "from tkinter import *\n"
   ]
  },
  {
   "cell_type": "code",
   "execution_count": 15,
   "id": "3d97a1e0",
   "metadata": {},
   "outputs": [],
   "source": [
    "#Label frames\n",
    "win=Tk()\n",
    "lb_frame=LabelFrame(win,text=\"Aman\",labelanchor=NE)\n",
    "lb_frame.place(x=100,y=100,height=100,width=100)\n",
    "\n",
    "lb=Label(win,text=\"This\",font=(30))\n",
    "lb.place(x=120,y=150)\n",
    "win.mainloop()\n"
   ]
  },
  {
   "cell_type": "code",
   "execution_count": 18,
   "id": "ca8cce99",
   "metadata": {},
   "outputs": [],
   "source": [
    "#Button\n",
    "\n",
    "def clickme():\n",
    "    lb.config(text=\"Button was Clicked\")\n",
    "    \n",
    "win=Tk()\n",
    "win.config(bg=\"Red\")\n",
    "\n",
    "#To make a photo as button\n",
    "#photo=PhotoImage(file=\"demo.png\")\n",
    "#bt=Button(win,image=photo)\n",
    "\n",
    "bt=Button(win,text=\"ON\",relief=\"sunken\",command=clickme)\n",
    "bt.place(x=100,y=100)\n",
    "\n",
    "lb=Label(win,text=\"\")\n",
    "lb.place(x=100,y=150)\n",
    "\n",
    "win.mainloop()"
   ]
  },
  {
   "cell_type": "code",
   "execution_count": 22,
   "id": "72780bec",
   "metadata": {},
   "outputs": [],
   "source": [
    "#Checkbutton\n",
    "win=Tk()\n",
    "\n",
    "var=StringVar()\n",
    "cb=Checkbutton(win,text=\"Python\",onvalue=\"python_checked\"\n",
    "               ,offvalue=\"python_unchecked\",variable=var)\n",
    "cb.pack()\n",
    "win.mainloop()"
   ]
  },
  {
   "cell_type": "code",
   "execution_count": 32,
   "id": "4512b7ee",
   "metadata": {},
   "outputs": [],
   "source": [
    "def ok():\n",
    "    lb.config(text=var.get())\n",
    "\n",
    "win=Tk()\n",
    "\n",
    "var=StringVar()\n",
    "list=((\"python\",\"python_checked\",\"python_unchecked\")\n",
    "      ,(\"java\",\"java_checked\",\"java_unchecked\"))\n",
    "\n",
    "for i in list:\n",
    "    cb=Checkbutton(win,text=i[0],onvalue=i[1]\n",
    "               ,offvalue=i[2],variable=var)\n",
    "    cb.deselect()\n",
    "    cb.pack()\n",
    "\n",
    "lb=Label(win,text=\"\")\n",
    "lb.pack()\n",
    "\n",
    "bt=Button(win,text=\"Click after filling the form\",command=ok)\n",
    "bt.pack()\n",
    "win.mainloop()"
   ]
  },
  {
   "cell_type": "code",
   "execution_count": 33,
   "id": "ad51866e",
   "metadata": {},
   "outputs": [],
   "source": [
    "#Radio Button\n",
    "win=Tk()\n",
    "\n",
    "rb=Radiobutton(win,text=\"python\",value=\"p\")\n",
    "rb.pack()\n",
    "win.mainloop()"
   ]
  },
  {
   "cell_type": "code",
   "execution_count": 38,
   "id": "3c231562",
   "metadata": {},
   "outputs": [],
   "source": [
    "def ok():\n",
    "    lb.config(text=var.get())\n",
    "\n",
    "win=Tk()\n",
    "var=StringVar()\n",
    "list=((\"python\",\"p\"),(\"java\",\"j\"))\n",
    "for i in list:\n",
    "    rb=Radiobutton(win,text=i[0],value=i[1],variable=var)\n",
    "    rb.pack()\n",
    "\n",
    "lb=Label(win,text=\"\")\n",
    "lb.pack()\n",
    "\n",
    "bt=Button(win,text=\"Click after filling the form\",command=ok)\n",
    "bt.pack()\n",
    "win.mainloop()"
   ]
  },
  {
   "cell_type": "code",
   "execution_count": null,
   "id": "0170d21c",
   "metadata": {},
   "outputs": [],
   "source": []
  }
 ],
 "metadata": {
  "kernelspec": {
   "display_name": "Python 3 (ipykernel)",
   "language": "python",
   "name": "python3"
  },
  "language_info": {
   "codemirror_mode": {
    "name": "ipython",
    "version": 3
   },
   "file_extension": ".py",
   "mimetype": "text/x-python",
   "name": "python",
   "nbconvert_exporter": "python",
   "pygments_lexer": "ipython3",
   "version": "3.9.13"
  }
 },
 "nbformat": 4,
 "nbformat_minor": 5
}
